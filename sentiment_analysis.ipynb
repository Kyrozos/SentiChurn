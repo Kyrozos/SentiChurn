{
 "cells": [
  {
   "cell_type": "code",
   "execution_count": 1,
   "metadata": {},
   "outputs": [
    {
     "name": "stdout",
     "output_type": "stream",
     "text": [
      "WARNING:tensorflow:From c:\\Users\\namma\\anaconda3\\envs\\SentiChurn\\lib\\site-packages\\keras\\src\\losses.py:2976: The name tf.losses.sparse_softmax_cross_entropy is deprecated. Please use tf.compat.v1.losses.sparse_softmax_cross_entropy instead.\n",
      "\n"
     ]
    }
   ],
   "source": [
    "import pickle\n",
    "import json, os\n",
    "import numpy as np  \n",
    "import pandas as pd\n",
    "import seaborn as sns\n",
    "import tensorflow as tf\n",
    "from matplotlib import pyplot as plt\n",
    "from sklearn.metrics import confusion_matrix"
   ]
  },
  {
   "cell_type": "code",
   "execution_count": 2,
   "metadata": {},
   "outputs": [],
   "source": [
    "def load_split(data_path):\n",
    "    \"\"\"\n",
    "    Load sentiment data from a JSON file and preprocess it into a DataFrame.\n",
    "\n",
    "    Args:\n",
    "    - data_path (str): Path to the JSON file containing sentiment data.\n",
    "\n",
    "    Returns:\n",
    "    - pandas.DataFrame: Preprocessed DataFrame containing text and sentiment labels.\n",
    "    \"\"\"\n",
    "    # Load data from JSON file\n",
    "    with open(data_path, 'r') as f:\n",
    "        data = json.load(f)\n",
    "    \n",
    "    # Prepare a dictionary to store the preprocessed data\n",
    "    data_updated = {\"Text\": [], \"Sentiment\": []}\n",
    "\n",
    "    # Extract text and sentiment labels from the loaded data and store in the dictionary\n",
    "    for d in data:\n",
    "        data_updated[\"Text\"].append(d[\"text\"])\n",
    "        data_updated[\"Sentiment\"].append(d[\"opinions\"][0]['sentiment'])\n",
    "\n",
    "    # Convert the dictionary to a DataFrame and return\n",
    "    return pd.DataFrame(data_updated)\n",
    "\n",
    "\n",
    "def load_sa_data(n_products=100):\n",
    "    \"\"\"\n",
    "    Load sentiment analysis data either from a CSV file or from JSON files,\n",
    "    preprocess it, and save as a CSV file if not already available.\n",
    "\n",
    "    Args:\n",
    "    - n_products (int): Number of unique product IDs to generate.\n",
    "\n",
    "    Returns:\n",
    "    - pandas.DataFrame: DataFrame containing preprocessed sentiment analysis data.\n",
    "    \"\"\"\n",
    "    # Check if the CSV file already exists\n",
    "    if not os.path.exists('data/sentiment/sentiment_analysis.csv'):\n",
    "        # Load sentiment data from JSON files\n",
    "        data_dev = load_split('data/sentiment/sentitel_dev.json')\n",
    "        data_train = load_split('data/sentiment/sentitel_train.json')\n",
    "        data_test = load_split('data/sentiment/sentitel_test.json')\n",
    "\n",
    "        # Concatenate the data and shuffle rows\n",
    "        data = pd.concat([data_dev, data_train, data_test], ignore_index=True)\n",
    "        data = data.sample(frac=1).reset_index(drop=True)\n",
    "\n",
    "        # Generate random product IDs and add them as a new column\n",
    "        product_ids = np.arange(1, n_products+1)\n",
    "        product_id_array = np.random.choice(product_ids, data.shape[0], replace=True)\n",
    "        data[\"ProdID\"] = product_id_array\n",
    "\n",
    "        # Save the preprocessed data as a CSV file\n",
    "        data.to_csv('data/sentiment/sentiment_analysis.csv', index=False)\n",
    "    \n",
    "    # If the CSV file exists, load and return it\n",
    "    return pd.read_csv('data/sentiment/sentiment_analysis.csv')\n"
   ]
  },
  {
   "cell_type": "code",
   "execution_count": 3,
   "metadata": {},
   "outputs": [
    {
     "data": {
      "text/html": [
       "<div>\n",
       "<style scoped>\n",
       "    .dataframe tbody tr th:only-of-type {\n",
       "        vertical-align: middle;\n",
       "    }\n",
       "\n",
       "    .dataframe tbody tr th {\n",
       "        vertical-align: top;\n",
       "    }\n",
       "\n",
       "    .dataframe thead th {\n",
       "        text-align: right;\n",
       "    }\n",
       "</style>\n",
       "<table border=\"1\" class=\"dataframe\">\n",
       "  <thead>\n",
       "    <tr style=\"text-align: right;\">\n",
       "      <th></th>\n",
       "      <th>Text</th>\n",
       "      <th>Sentiment</th>\n",
       "      <th>ProdID</th>\n",
       "    </tr>\n",
       "  </thead>\n",
       "  <tbody>\n",
       "    <tr>\n",
       "      <th>0</th>\n",
       "      <td>AirtelUg am still having trouble using Cloudfl...</td>\n",
       "      <td>Negative</td>\n",
       "      <td>41</td>\n",
       "    </tr>\n",
       "    <tr>\n",
       "      <th>1</th>\n",
       "      <td>africellUG Thanks so much</td>\n",
       "      <td>Positive</td>\n",
       "      <td>71</td>\n",
       "    </tr>\n",
       "    <tr>\n",
       "      <th>2</th>\n",
       "      <td>AirtelUg Ure slowly becoming my favourite keep...</td>\n",
       "      <td>Positive</td>\n",
       "      <td>87</td>\n",
       "    </tr>\n",
       "    <tr>\n",
       "      <th>3</th>\n",
       "      <td>digitaldidan Oke  lets not discredit AirtelUg ...</td>\n",
       "      <td>Positive</td>\n",
       "      <td>78</td>\n",
       "    </tr>\n",
       "    <tr>\n",
       "      <th>4</th>\n",
       "      <td>mtnug I cant buy data via mobile money Wsup</td>\n",
       "      <td>Negative</td>\n",
       "      <td>83</td>\n",
       "    </tr>\n",
       "  </tbody>\n",
       "</table>\n",
       "</div>"
      ],
      "text/plain": [
       "                                                Text Sentiment  ProdID\n",
       "0  AirtelUg am still having trouble using Cloudfl...  Negative      41\n",
       "1                        africellUG Thanks so much    Positive      71\n",
       "2  AirtelUg Ure slowly becoming my favourite keep...  Positive      87\n",
       "3  digitaldidan Oke  lets not discredit AirtelUg ...  Positive      78\n",
       "4      mtnug I cant buy data via mobile money Wsup    Negative      83"
      ]
     },
     "execution_count": 3,
     "metadata": {},
     "output_type": "execute_result"
    }
   ],
   "source": [
    "# Load sentiment analysis data using the load_sa_data function\n",
    "data = load_sa_data()\n",
    "\n",
    "# Display the first few rows of the loaded data to verify its structure\n",
    "data.head()"
   ]
  },
  {
   "cell_type": "code",
   "execution_count": 4,
   "metadata": {},
   "outputs": [
    {
     "data": {
      "image/png": "[encoded data removed]",
      "text/plain": [
       "<Figure size 640x480 with 1 Axes>"
      ]
     },
     "metadata": {},
     "output_type": "display_data"
    }
   ],
   "source": [
    "# Count the occurrences of each sentiment category\n",
    "sentiment_counts = data[\"Sentiment\"].value_counts()\n",
    "\n",
    "# Plot the distribution of sentiments using a bar plot\n",
    "sentiment_counts.plot(kind='bar')\n",
    "\n",
    "# Add labels and title\n",
    "plt.title('Distribution of Sentiments')\n",
    "plt.xlabel('Sentiment')\n",
    "plt.ylabel('Count')\n",
    "\n",
    "# Show the plot\n",
    "plt.show()"
   ]
  },
  {
   "cell_type": "code",
   "execution_count": 5,
   "metadata": {},
   "outputs": [],
   "source": [
    "# Map sentiment labels to numerical values\n",
    "data[\"Sentiment\"] = data[\"Sentiment\"].map({\n",
    "    'Negative': 0,\n",
    "    'Positive': 1\n",
    "})\n",
    "\n",
    "# Extract text and sentiment values from the DataFrame\n",
    "texts = data[\"Text\"].values\n",
    "sentiments = data[\"Sentiment\"].values"
   ]
  },
  {
   "cell_type": "code",
   "execution_count": 6,
   "metadata": {},
   "outputs": [
    {
     "name": "stdout",
     "output_type": "stream",
     "text": [
      "{0: 0.6017435679353604, 1: 2.9571577847439916}\n"
     ]
    }
   ],
   "source": [
    "# Calculate class weights for imbalance handling\n",
    "class_weights = {}\n",
    "\n",
    "# Iterate over the two classes\n",
    "for i in range(2):\n",
    "    # Calculate class weight for each class\n",
    "    class_weights[i] = len(sentiments) / (2 * np.sum(sentiments == i))\n",
    "\n",
    "# Print the calculated class weights\n",
    "print(class_weights)"
   ]
  },
  {
   "cell_type": "code",
   "execution_count": 7,
   "metadata": {},
   "outputs": [],
   "source": [
    "# Check if the tokenizer pickle file exists, if not, create and save a new tokenizer\n",
    "if not os.path.exists('weights/sentiment/sentiment_analysis.pickle'):\n",
    "    # Initialize a new Tokenizer\n",
    "    tokenizer = tf.keras.preprocessing.text.Tokenizer()\n",
    "    \n",
    "    # Fit the Tokenizer on the text data\n",
    "    tokenizer.fit_on_texts(texts)\n",
    "\n",
    "    # Save the tokenizer to a pickle file\n",
    "    with open('weights/sentiment/sentiment_analysis.pickle', 'wb') as f:\n",
    "        pickle.dump(tokenizer, f)\n",
    "\n",
    "# If the tokenizer pickle file exists, load the tokenizer from the file\n",
    "else:\n",
    "    # Load the tokenizer from the pickle file\n",
    "    with open('weights/sentiment/sentiment_analysis.pickle', 'rb') as f:\n",
    "        tokenizer = pickle.load(f)"
   ]
  },
  {
   "cell_type": "code",
   "execution_count": 8,
   "metadata": {},
   "outputs": [
    {
     "data": {
      "image/png": "[encoded data removed]",
      "text/plain": [
       "<Figure size 640x480 with 1 Axes>"
      ]
     },
     "metadata": {},
     "output_type": "display_data"
    }
   ],
   "source": [
    "# Convert the texts to sequences using the tokenizer\n",
    "X_tokenized = tokenizer.texts_to_sequences(texts)\n",
    "\n",
    "# Plot a histogram of the lengths of the tokenized sequences\n",
    "plt.hist([len(x) for x in X_tokenized], bins=50)\n",
    "plt.xlabel('Length of Tokenized Sequences')\n",
    "plt.ylabel('Frequency')\n",
    "plt.title('Distribution of Tokenized Sequence Lengths')\n",
    "plt.show()"
   ]
  },
  {
   "cell_type": "code",
   "execution_count": 9,
   "metadata": {},
   "outputs": [],
   "source": [
    "# Pad the tokenized sequences to ensure uniform length\n",
    "X_padded = tf.keras.preprocessing.sequence.pad_sequences(X_tokenized, padding='post')"
   ]
  },
  {
   "cell_type": "code",
   "execution_count": 10,
   "metadata": {},
   "outputs": [],
   "source": [
    "def build_sa_model(vocab_size, embedding_dim, max_length):\n",
    "    # Define the input layer\n",
    "    input_layer = tf.keras.layers.Input(shape=(max_length,))\n",
    "    \n",
    "    # Embedding layer\n",
    "    embedding_layer = tf.keras.layers.Embedding(vocab_size, embedding_dim)(input_layer)\n",
    "    \n",
    "    # LSTM layers\n",
    "    lstm_layer = tf.keras.layers.LSTM(128, return_sequences=True)(embedding_layer)\n",
    "    lstm_layer = tf.keras.layers.LSTM(128)(lstm_layer)\n",
    "    \n",
    "    # Dense layers\n",
    "    dense_layer = tf.keras.layers.Dense(128, activation='relu')(lstm_layer)\n",
    "    dense_layer = tf.keras.layers.Dense(32, activation='relu')(dense_layer)\n",
    "    \n",
    "    # Output layer\n",
    "    output_layer = tf.keras.layers.Dense(1, activation='sigmoid')(dense_layer)\n",
    "\n",
    "    # Build the model\n",
    "    model = tf.keras.models.Model(inputs=input_layer, outputs=output_layer)\n",
    "    \n",
    "    # Print model summary\n",
    "    model.summary() \n",
    "    \n",
    "    return model\n",
    "\n",
    "# This function defines a sentiment analysis model using Keras Functional API.\n",
    "# It consists of an input layer, an embedding layer, two LSTM layers, and two dense layers, followed by a sigmoid output layer."
   ]
  },
  {
   "cell_type": "code",
   "execution_count": 11,
   "metadata": {},
   "outputs": [
    {
     "name": "stdout",
     "output_type": "stream",
     "text": [
      "WARNING:tensorflow:From c:\\Users\\namma\\anaconda3\\envs\\SentiChurn\\lib\\site-packages\\keras\\src\\backend.py:1398: The name tf.executing_eagerly_outside_functions is deprecated. Please use tf.compat.v1.executing_eagerly_outside_functions instead.\n",
      "\n",
      "Model: \"model\"\n",
      "_________________________________________________________________\n",
      " Layer (type)                Output Shape              Param #   \n",
      "=================================================================\n",
      " input_1 (InputLayer)        [(None, 60)]              0         \n",
      "                                                                 \n",
      " embedding (Embedding)       (None, 60, 256)           2205696   \n",
      "                                                                 \n",
      " lstm (LSTM)                 (None, 60, 128)           197120    \n",
      "                                                                 \n",
      " lstm_1 (LSTM)               (None, 128)               131584    \n",
      "                                                                 \n",
      " dense (Dense)               (None, 128)               16512     \n",
      "                                                                 \n",
      " dense_1 (Dense)             (None, 32)                4128      \n",
      "                                                                 \n",
      " dense_2 (Dense)             (None, 1)                 33        \n",
      "                                                                 \n",
      "=================================================================\n",
      "Total params: 2555073 (9.75 MB)\n",
      "Trainable params: 2555073 (9.75 MB)\n",
      "Non-trainable params: 0 (0.00 Byte)\n",
      "_________________________________________________________________\n",
      "WARNING:tensorflow:From c:\\Users\\namma\\anaconda3\\envs\\SentiChurn\\lib\\site-packages\\keras\\src\\optimizers\\__init__.py:309: The name tf.train.Optimizer is deprecated. Please use tf.compat.v1.train.Optimizer instead.\n",
      "\n",
      "Epoch 1/100\n",
      "WARNING:tensorflow:From c:\\Users\\namma\\anaconda3\\envs\\SentiChurn\\lib\\site-packages\\keras\\src\\utils\\tf_utils.py:492: The name tf.ragged.RaggedTensorValue is deprecated. Please use tf.compat.v1.ragged.RaggedTensorValue instead.\n",
      "\n",
      "177/177 [==============================] - 11s 45ms/step - loss: 0.6678 - accuracy: 0.5406 - precision: 0.2033\n",
      "Epoch 2/100\n",
      "177/177 [==============================] - 8s 45ms/step - loss: 0.6051 - accuracy: 0.8712 - precision: 0.8434\n",
      "Epoch 3/100\n",
      "177/177 [==============================] - 8s 44ms/step - loss: 0.6418 - accuracy: 0.7410 - precision: 0.3144\n",
      "Epoch 4/100\n",
      "177/177 [==============================] - 7s 41ms/step - loss: 0.4829 - accuracy: 0.8110 - precision: 0.4632\n",
      "Epoch 5/100\n",
      "177/177 [==============================] - 8s 43ms/step - loss: 0.3770 - accuracy: 0.8903 - precision: 0.6308\n",
      "Epoch 6/100\n",
      "177/177 [==============================] - 8s 43ms/step - loss: 0.3496 - accuracy: 0.9076 - precision: 0.6842\n",
      "Epoch 7/100\n",
      "177/177 [==============================] - 8s 44ms/step - loss: 0.3272 - accuracy: 0.9193 - precision: 0.7228\n",
      "Epoch 8/100\n",
      "177/177 [==============================] - 8s 43ms/step - loss: 0.5123 - accuracy: 0.6113 - precision: 0.2991\n",
      "Epoch 9/100\n",
      "177/177 [==============================] - 8s 43ms/step - loss: 0.3984 - accuracy: 0.8265 - precision: 0.4929\n",
      "Epoch 10/100\n",
      "177/177 [==============================] - 8s 44ms/step - loss: 0.3507 - accuracy: 0.9152 - precision: 0.7109\n",
      "Epoch 11/100\n",
      "177/177 [==============================] - 8s 46ms/step - loss: 0.3414 - accuracy: 0.9184 - precision: 0.7188\n",
      "Epoch 12/100\n",
      "177/177 [==============================] - 8s 43ms/step - loss: 0.3199 - accuracy: 0.9320 - precision: 0.7771\n",
      "Epoch 13/100\n",
      "177/177 [==============================] - 8s 44ms/step - loss: 0.5159 - accuracy: 0.8968 - precision: 0.8693\n",
      "Epoch 14/100\n",
      "177/177 [==============================] - 8s 43ms/step - loss: 0.5759 - accuracy: 0.8297 - precision: 0.4952\n",
      "Epoch 15/100\n",
      "177/177 [==============================] - 8s 44ms/step - loss: 0.5650 - accuracy: 0.8408 - precision: 0.5390\n",
      "Epoch 16/100\n",
      "177/177 [==============================] - 8s 46ms/step - loss: 0.4152 - accuracy: 0.8588 - precision: 0.5648\n",
      "Epoch 17/100\n",
      "177/177 [==============================] - 8s 43ms/step - loss: 0.2540 - accuracy: 0.9233 - precision: 0.7142\n"
     ]
    },
    {
     "data": {
      "text/plain": [
       "<keras.src.callbacks.History at 0x2070ba99460>"
      ]
     },
     "execution_count": 11,
     "metadata": {},
     "output_type": "execute_result"
    }
   ],
   "source": [
    "model = build_sa_model(\n",
    "                    len(tokenizer.word_index) + 1, \n",
    "                    256, \n",
    "                    X_padded.shape[1]\n",
    "                    )\n",
    "\n",
    "# Compile the model\n",
    "model.compile(\n",
    "            optimizer='adam', \n",
    "            loss='binary_crossentropy', \n",
    "            metrics=[\n",
    "                    tf.keras.metrics.BinaryAccuracy(name='accuracy'),\n",
    "                    tf.keras.metrics.Precision(name='precision')\n",
    "                    ]\n",
    "            )\n",
    "\n",
    "# Define early stopping callback\n",
    "early_stopping = tf.keras.callbacks.EarlyStopping(\n",
    "                                                monitor='accuracy', \n",
    "                                                patience=5\n",
    "                                                )\n",
    "\n",
    "# Train the model\n",
    "model.fit(\n",
    "        X_padded, \n",
    "        sentiments, \n",
    "        epochs=100, \n",
    "        batch_size=32,\n",
    "        class_weight=class_weights,\n",
    "        callbacks=[early_stopping]\n",
    "        )\n"
   ]
  },
  {
   "cell_type": "code",
   "execution_count": 12,
   "metadata": {},
   "outputs": [
    {
     "name": "stderr",
     "output_type": "stream",
     "text": [
      "c:\\Users\\namma\\anaconda3\\envs\\SentiChurn\\lib\\site-packages\\keras\\src\\engine\\training.py:3103: UserWarning: You are saving your model as an HDF5 file via `model.save()`. This file format is considered legacy. We recommend using instead the native Keras format, e.g. `model.save('my_model.keras')`.\n",
      "  saving_api.save_model(\n"
     ]
    }
   ],
   "source": [
    "model.save('weights/sentiment/sentiment_analysis.h5')"
   ]
  },
  {
   "cell_type": "code",
   "execution_count": 13,
   "metadata": {},
   "outputs": [
    {
     "name": "stdout",
     "output_type": "stream",
     "text": [
      "177/177 [==============================] - 3s 16ms/step\n"
     ]
    },
    {
     "data": {
      "image/png": "[encoded data removed]",
      "text/plain": [
       "<Figure size 640x480 with 2 Axes>"
      ]
     },
     "metadata": {},
     "output_type": "display_data"
    }
   ],
   "source": [
    "# Compute the confusion matrix\n",
    "cm = confusion_matrix(sentiments, model.predict(X_padded) > 0.5)\n",
    "\n",
    "# Plot the confusion matrix as a heatmap\n",
    "sns.heatmap(cm, annot=True)\n",
    "\n",
    "# Add labels and title\n",
    "plt.xlabel('Predicted')\n",
    "plt.ylabel('True')\n",
    "plt.title('Confusion Matrix')\n",
    "\n",
    "# Show the plot\n",
    "plt.show()"
   ]
  }
 ],
 "metadata": {
  "kernelspec": {
   "display_name": "Python 3",
   "language": "python",
   "name": "python3"
  },
  "language_info": {
   "codemirror_mode": {
    "name": "ipython",
    "version": 3
   },
   "file_extension": ".py",
   "mimetype": "text/x-python",
   "name": "python",
   "nbconvert_exporter": "python",
   "pygments_lexer": "ipython3",
   "version": "3.9.19"
  }
 },
 "nbformat": 4,
 "nbformat_minor": 2
}
